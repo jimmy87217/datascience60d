{
 "cells": [
  {
   "cell_type": "markdown",
   "metadata": {
    "colab_type": "text",
    "id": "P6xk2_jLsvFF"
   },
   "source": [
    "# [作業目標]\n",
    "\n",
    "1. [簡答題] 請問下列四種不同的 DataFrame 選取結果有什麼差異？\n",
    "\n",
    "```\n",
    "df.loc[ '2013-01-01', 'A'] \n",
    "df.loc[ '2013-01-01', ['A', 'B'] ] \n",
    "df.loc[ '2013-01-01':'2013-01-02', 'A' ] \n",
    "df.loc[ '2013-01-01':'2013-01-05', 'A':'C'] \n",
    "```\n",
    "\n",
    "\n",
    "2. 請根據提供的資料，選擇出下列的要求：\n",
    "\n",
    "```\n",
    "# - select the first 3 rows.\n",
    "# - select the odd rows. (index = 1, 3, 5)\n",
    "# - select the last 2 columns.\n",
    "# - select the even columns. (index = 0, 2, 4)\n",
    "```\n",
    "\n",
    "3. 請根據提供的資料，選擇出下列的要求：\n",
    "\n",
    "```\n",
    "# - 1. filtered by first column > 20?\n",
    "# - 2. filtered by first column + second column > 50\n",
    "# - 3. filtered by first column < 30 or second column > 30\n",
    "# - 4. filtered by total sum of row > 100\n",
    "```"
   ]
  },
  {
   "cell_type": "markdown",
   "metadata": {
    "colab_type": "text",
    "id": "uXGll28asvFS"
   },
   "source": [
    "# 作業 "
   ]
  },
  {
   "cell_type": "markdown",
   "metadata": {},
   "source": [
    "### 1. [簡答題] 請問下列四種不同的 DataFrame 選取結果有什麼差異？\n",
    "\n",
    "```\n",
    "df.loc[ '2013-01-01', 'A'] \n",
    "df.loc[ '2013-01-01', ['A', 'B'] ] \n",
    "df.loc[ '2013-01-01':'2013-01-02', 'A' ] \n",
    "df.loc[ '2013-01-01':'2013-01-05', 'A':'C'] \n",
    "```\n",
    "\n",
    "\n",
    "\n"
   ]
  },
  {
   "cell_type": "code",
   "execution_count": null,
   "metadata": {
    "colab": {},
    "colab_type": "code",
    "id": "5QrYoyNWsvFS"
   },
   "outputs": [],
   "source": [
    "#df.loc[ '2013-01-01', 'A'] 選取 index =  2013-01-01, column = A 的資料---為一個元素 \n",
    "#df.loc[ '2013-01-01', ['A', 'B'] ] 選取 index =  2013-01-01, column = A及 B 的資料---為一個series\n",
    "#df.loc[ '2013-01-01':'2013-01-02', 'A' ] 選取 index =  2013-01-01 到 2013-01-02, column = A 的資料---為一個series\n",
    "#df.loc[ '2013-01-01':'2013-01-05', 'A':'C']  選取 index =  2013-01-01到 2013-01-05, column = A 到 C 的資料---為一個dataframe"
   ]
  },
  {
   "cell_type": "markdown",
   "metadata": {},
   "source": [
    "### 2. 請根據提供的資料，選擇出下列的要求：\n",
    "\n",
    "```\n",
    "# - select the first 3 rows.\n",
    "# - select the odd rows. (index = 1, 3, 5)\n",
    "# - select the last 2 columns.\n",
    "# - select the even columns. (index = 0, 2, 4)\n",
    "```\n"
   ]
  },
  {
   "cell_type": "code",
   "execution_count": 1,
   "metadata": {},
   "outputs": [],
   "source": [
    "import numpy as np\n",
    "import pandas as pd"
   ]
  },
  {
   "cell_type": "code",
   "execution_count": 2,
   "metadata": {
    "colab": {},
    "colab_type": "code",
    "id": "e1gVI0tvsvFY"
   },
   "outputs": [
    {
     "data": {
      "text/html": [
       "<div>\n",
       "<style scoped>\n",
       "    .dataframe tbody tr th:only-of-type {\n",
       "        vertical-align: middle;\n",
       "    }\n",
       "\n",
       "    .dataframe tbody tr th {\n",
       "        vertical-align: top;\n",
       "    }\n",
       "\n",
       "    .dataframe thead th {\n",
       "        text-align: right;\n",
       "    }\n",
       "</style>\n",
       "<table border=\"1\" class=\"dataframe\">\n",
       "  <thead>\n",
       "    <tr style=\"text-align: right;\">\n",
       "      <th></th>\n",
       "      <th>col1</th>\n",
       "      <th>col2</th>\n",
       "      <th>col3</th>\n",
       "    </tr>\n",
       "  </thead>\n",
       "  <tbody>\n",
       "    <tr>\n",
       "      <th>0</th>\n",
       "      <td>-0.288966</td>\n",
       "      <td>0.569261</td>\n",
       "      <td>0.472539</td>\n",
       "    </tr>\n",
       "    <tr>\n",
       "      <th>1</th>\n",
       "      <td>1.265823</td>\n",
       "      <td>-0.516665</td>\n",
       "      <td>-1.046727</td>\n",
       "    </tr>\n",
       "    <tr>\n",
       "      <th>2</th>\n",
       "      <td>-0.814506</td>\n",
       "      <td>0.180126</td>\n",
       "      <td>-1.643731</td>\n",
       "    </tr>\n",
       "    <tr>\n",
       "      <th>3</th>\n",
       "      <td>1.147185</td>\n",
       "      <td>-1.222639</td>\n",
       "      <td>-0.842510</td>\n",
       "    </tr>\n",
       "    <tr>\n",
       "      <th>4</th>\n",
       "      <td>0.227162</td>\n",
       "      <td>-0.894879</td>\n",
       "      <td>0.405860</td>\n",
       "    </tr>\n",
       "    <tr>\n",
       "      <th>5</th>\n",
       "      <td>-2.143647</td>\n",
       "      <td>-0.331024</td>\n",
       "      <td>-0.279936</td>\n",
       "    </tr>\n",
       "  </tbody>\n",
       "</table>\n",
       "</div>"
      ],
      "text/plain": [
       "       col1      col2      col3\n",
       "0 -0.288966  0.569261  0.472539\n",
       "1  1.265823 -0.516665 -1.046727\n",
       "2 -0.814506  0.180126 -1.643731\n",
       "3  1.147185 -1.222639 -0.842510\n",
       "4  0.227162 -0.894879  0.405860\n",
       "5 -2.143647 -0.331024 -0.279936"
      ]
     },
     "execution_count": 2,
     "metadata": {},
     "output_type": "execute_result"
    }
   ],
   "source": [
    "df = pd.DataFrame(np.random.randn(6,3),columns=['col1','col2','col3'])\n",
    "df"
   ]
  },
  {
   "cell_type": "code",
   "execution_count": 20,
   "metadata": {},
   "outputs": [
    {
     "name": "stdout",
     "output_type": "stream",
     "text": [
      "select the first 3 rows.: \n",
      "        col1      col2      col3\n",
      "0 -0.288966  0.569261  0.472539\n",
      "1  1.265823 -0.516665 -1.046727\n",
      "2 -0.814506  0.180126 -1.643731\n",
      "\n",
      "select the odd rows. (index = 1, 3, 5):\n",
      "        col1      col2      col3\n",
      "1  1.265823 -0.516665 -1.046727\n",
      "3  1.147185 -1.222639 -0.842510\n",
      "5 -2.143647 -0.331024 -0.279936\n",
      "\n",
      "select the last 2 columns.:\n",
      "        col2      col3\n",
      "0  0.569261  0.472539\n",
      "1 -0.516665 -1.046727\n",
      "2  0.180126 -1.643731\n",
      "3 -1.222639 -0.842510\n",
      "4 -0.894879  0.405860\n",
      "5 -0.331024 -0.279936\n",
      "\n",
      "select the even columns. (index = 0, 2, 4):\n",
      "        col1      col3\n",
      "0 -0.288966  0.472539\n",
      "1  1.265823 -1.046727\n",
      "2 -0.814506 -1.643731\n",
      "3  1.147185 -0.842510\n",
      "4  0.227162  0.405860\n",
      "5 -2.143647 -0.279936\n"
     ]
    }
   ],
   "source": [
    "print('select the first 3 rows.: \\n',df.loc[0:2,'col1':'col3'])\n",
    "print('\\nselect the odd rows. (index = 1, 3, 5):\\n',df.loc[[1,3,5],])\n",
    "print('\\nselect the last 2 columns.:\\n',df.loc[:,['col2','col3']])\n",
    "print('\\nselect the even columns. (index = 0, 2, 4):\\n',df[df.columns[::2]])"
   ]
  },
  {
   "cell_type": "markdown",
   "metadata": {},
   "source": [
    "### 3. 請根據提供的資料，選擇出下列的要求：\n",
    "\n",
    "```\n",
    "# - 1. filtered by first column > 20?\n",
    "# - 2. filtered by first column + second column > 50\n",
    "# - 3. filtered by first column < 30 or second column > 30\n",
    "# - 4. filtered by total sum of row > 100\n",
    "```"
   ]
  },
  {
   "cell_type": "code",
   "execution_count": 23,
   "metadata": {},
   "outputs": [
    {
     "data": {
      "text/html": [
       "<div>\n",
       "<style scoped>\n",
       "    .dataframe tbody tr th:only-of-type {\n",
       "        vertical-align: middle;\n",
       "    }\n",
       "\n",
       "    .dataframe tbody tr th {\n",
       "        vertical-align: top;\n",
       "    }\n",
       "\n",
       "    .dataframe thead th {\n",
       "        text-align: right;\n",
       "    }\n",
       "</style>\n",
       "<table border=\"1\" class=\"dataframe\">\n",
       "  <thead>\n",
       "    <tr style=\"text-align: right;\">\n",
       "      <th></th>\n",
       "      <th>0</th>\n",
       "      <th>1</th>\n",
       "      <th>2</th>\n",
       "      <th>3</th>\n",
       "    </tr>\n",
       "  </thead>\n",
       "  <tbody>\n",
       "    <tr>\n",
       "      <th>0</th>\n",
       "      <td>33</td>\n",
       "      <td>13</td>\n",
       "      <td>16</td>\n",
       "      <td>36</td>\n",
       "    </tr>\n",
       "    <tr>\n",
       "      <th>1</th>\n",
       "      <td>33</td>\n",
       "      <td>16</td>\n",
       "      <td>27</td>\n",
       "      <td>35</td>\n",
       "    </tr>\n",
       "    <tr>\n",
       "      <th>2</th>\n",
       "      <td>12</td>\n",
       "      <td>35</td>\n",
       "      <td>20</td>\n",
       "      <td>26</td>\n",
       "    </tr>\n",
       "    <tr>\n",
       "      <th>3</th>\n",
       "      <td>21</td>\n",
       "      <td>26</td>\n",
       "      <td>18</td>\n",
       "      <td>37</td>\n",
       "    </tr>\n",
       "    <tr>\n",
       "      <th>4</th>\n",
       "      <td>29</td>\n",
       "      <td>14</td>\n",
       "      <td>12</td>\n",
       "      <td>15</td>\n",
       "    </tr>\n",
       "    <tr>\n",
       "      <th>5</th>\n",
       "      <td>17</td>\n",
       "      <td>13</td>\n",
       "      <td>19</td>\n",
       "      <td>38</td>\n",
       "    </tr>\n",
       "    <tr>\n",
       "      <th>6</th>\n",
       "      <td>18</td>\n",
       "      <td>13</td>\n",
       "      <td>10</td>\n",
       "      <td>14</td>\n",
       "    </tr>\n",
       "    <tr>\n",
       "      <th>7</th>\n",
       "      <td>33</td>\n",
       "      <td>21</td>\n",
       "      <td>12</td>\n",
       "      <td>18</td>\n",
       "    </tr>\n",
       "    <tr>\n",
       "      <th>8</th>\n",
       "      <td>31</td>\n",
       "      <td>31</td>\n",
       "      <td>34</td>\n",
       "      <td>17</td>\n",
       "    </tr>\n",
       "    <tr>\n",
       "      <th>9</th>\n",
       "      <td>26</td>\n",
       "      <td>37</td>\n",
       "      <td>30</td>\n",
       "      <td>24</td>\n",
       "    </tr>\n",
       "    <tr>\n",
       "      <th>10</th>\n",
       "      <td>29</td>\n",
       "      <td>30</td>\n",
       "      <td>16</td>\n",
       "      <td>24</td>\n",
       "    </tr>\n",
       "    <tr>\n",
       "      <th>11</th>\n",
       "      <td>29</td>\n",
       "      <td>25</td>\n",
       "      <td>16</td>\n",
       "      <td>28</td>\n",
       "    </tr>\n",
       "    <tr>\n",
       "      <th>12</th>\n",
       "      <td>17</td>\n",
       "      <td>22</td>\n",
       "      <td>12</td>\n",
       "      <td>22</td>\n",
       "    </tr>\n",
       "    <tr>\n",
       "      <th>13</th>\n",
       "      <td>34</td>\n",
       "      <td>14</td>\n",
       "      <td>16</td>\n",
       "      <td>28</td>\n",
       "    </tr>\n",
       "    <tr>\n",
       "      <th>14</th>\n",
       "      <td>39</td>\n",
       "      <td>29</td>\n",
       "      <td>35</td>\n",
       "      <td>25</td>\n",
       "    </tr>\n",
       "  </tbody>\n",
       "</table>\n",
       "</div>"
      ],
      "text/plain": [
       "     0   1   2   3\n",
       "0   33  13  16  36\n",
       "1   33  16  27  35\n",
       "2   12  35  20  26\n",
       "3   21  26  18  37\n",
       "4   29  14  12  15\n",
       "5   17  13  19  38\n",
       "6   18  13  10  14\n",
       "7   33  21  12  18\n",
       "8   31  31  34  17\n",
       "9   26  37  30  24\n",
       "10  29  30  16  24\n",
       "11  29  25  16  28\n",
       "12  17  22  12  22\n",
       "13  34  14  16  28\n",
       "14  39  29  35  25"
      ]
     },
     "execution_count": 23,
     "metadata": {},
     "output_type": "execute_result"
    }
   ],
   "source": [
    "df = pd.DataFrame(np.random.randint(10, 40, 60).reshape(-1, 4))\n",
    "df"
   ]
  },
  {
   "cell_type": "code",
   "execution_count": 28,
   "metadata": {},
   "outputs": [
    {
     "name": "stdout",
     "output_type": "stream",
     "text": [
      "filtered by first column > 20:\n",
      "      0   1   2   3\n",
      "0   33  13  16  36\n",
      "1   33  16  27  35\n",
      "3   21  26  18  37\n",
      "4   29  14  12  15\n",
      "7   33  21  12  18\n",
      "8   31  31  34  17\n",
      "9   26  37  30  24\n",
      "10  29  30  16  24\n",
      "11  29  25  16  28\n",
      "13  34  14  16  28\n",
      "14  39  29  35  25\n"
     ]
    }
   ],
   "source": [
    "print('filtered by first column > 20:\\n',df[df[0]>20])"
   ]
  },
  {
   "cell_type": "code",
   "execution_count": 29,
   "metadata": {},
   "outputs": [
    {
     "name": "stdout",
     "output_type": "stream",
     "text": [
      "filtered by first column + second column > 50:\n",
      "      0   1   2   3\n",
      "7   33  21  12  18\n",
      "8   31  31  34  17\n",
      "9   26  37  30  24\n",
      "10  29  30  16  24\n",
      "11  29  25  16  28\n",
      "14  39  29  35  25\n"
     ]
    }
   ],
   "source": [
    "print('filtered by first column + second column > 50:\\n',df[(df[0]+df[1]) > 50 ])"
   ]
  },
  {
   "cell_type": "code",
   "execution_count": 31,
   "metadata": {},
   "outputs": [
    {
     "name": "stdout",
     "output_type": "stream",
     "text": [
      "filtered by first column < 30 or second column > 30:\n",
      "      0   1   2   3\n",
      "2   12  35  20  26\n",
      "3   21  26  18  37\n",
      "4   29  14  12  15\n",
      "5   17  13  19  38\n",
      "6   18  13  10  14\n",
      "8   31  31  34  17\n",
      "9   26  37  30  24\n",
      "10  29  30  16  24\n",
      "11  29  25  16  28\n",
      "12  17  22  12  22\n"
     ]
    }
   ],
   "source": [
    "print('filtered by first column < 30 or second column > 30:\\n',df[(df[0]<30)|(df[1]>30)])"
   ]
  },
  {
   "cell_type": "code",
   "execution_count": 33,
   "metadata": {},
   "outputs": [
    {
     "name": "stdout",
     "output_type": "stream",
     "text": [
      "filtered by total sum of row > 100:\n",
      "      0   1   2   3\n",
      "1   33  16  27  35\n",
      "3   21  26  18  37\n",
      "8   31  31  34  17\n",
      "9   26  37  30  24\n",
      "14  39  29  35  25\n"
     ]
    }
   ],
   "source": [
    "print('filtered by total sum of row > 100:\\n',df[df.sum(axis = 1) > 100])"
   ]
  }
 ],
 "metadata": {
  "colab": {
   "name": "Day_023_HW.ipynb",
   "provenance": []
  },
  "kernelspec": {
   "display_name": "Python 3",
   "language": "python",
   "name": "python3"
  },
  "language_info": {
   "codemirror_mode": {
    "name": "ipython",
    "version": 3
   },
   "file_extension": ".py",
   "mimetype": "text/x-python",
   "name": "python",
   "nbconvert_exporter": "python",
   "pygments_lexer": "ipython3",
   "version": "3.8.5"
  }
 },
 "nbformat": 4,
 "nbformat_minor": 1
}
